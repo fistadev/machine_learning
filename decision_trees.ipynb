{
 "cells": [
  {
   "cell_type": "markdown",
   "id": "66fc914b",
   "metadata": {},
   "source": [
    "## Decision Trees \n",
    "Decision tree is one of the predictive modelling approaches used in statistics, data mining and machine learning.\n",
    "\n",
    "- each internal node represents a test on a feature (e.g. whether a coin flip comes up heads or tails)\n",
    "- each leaf node represents a class label\n",
    "- branches represent conjunctions of features that lead to those class labels\n",
    "\n",
    "A decision tree is a decision support tool that uses a tree-like model of decisions and their possible consequences, including chance event outcomes, resource costs, and utility. It is one way to display an algorithm that only contains conditional control statements. Wikipedia\n",
    "\n",
    "* import packages\n",
    "* load data\n",
    "* create pandas dataframe\n",
    "* train test split\n",
    "* DecisionTreeClassifier()\n",
    "* fit\n",
    "* predict\n",
    "* accuracy"
   ]
  },
  {
   "cell_type": "code",
   "execution_count": 1,
   "id": "073c82bb",
   "metadata": {},
   "outputs": [],
   "source": [
    "import numpy as np\n",
    "import pandas as pd\n",
    "from sklearn.ensemble import RandomForestClassifier\n",
    "from sklearn.datasets import make_classification\n",
    "from sklearn.ensemble import RandomForestRegressor\n",
    "from sklearn.metrics import mean_absolute_error\n",
    "from sklearn.model_selection import train_test_split, cross_validate\n",
    "from sklearn.model_selection import train_test_split\n",
    "from sklearn import tree\n",
    "from sklearn import metrics\n",
    "from sklearn.datasets import load_iris"
   ]
  },
  {
   "cell_type": "code",
   "execution_count": 2,
   "id": "9b408b94",
   "metadata": {},
   "outputs": [
    {
     "data": {
      "text/plain": [
       "dict_keys(['data', 'target', 'frame', 'target_names', 'DESCR', 'feature_names', 'filename'])"
      ]
     },
     "execution_count": 2,
     "metadata": {},
     "output_type": "execute_result"
    }
   ],
   "source": [
    "# load data\n",
    "df_iris = load_iris()\n",
    "df_iris.keys()"
   ]
  },
  {
   "cell_type": "code",
   "execution_count": 3,
   "id": "93012798",
   "metadata": {},
   "outputs": [
    {
     "name": "stdout",
     "output_type": "stream",
     "text": [
      "   sepal length  sepal width  petal length  petal width\n",
      "0           5.1          3.5           1.4          0.2\n",
      "1           4.9          3.0           1.4          0.2\n",
      "2           4.7          3.2           1.3          0.2\n",
      "3           4.6          3.1           1.5          0.2\n",
      "4           5.0          3.6           1.4          0.2\n"
     ]
    }
   ],
   "source": [
    "# create dataframe\n",
    "df = pd.DataFrame(\n",
    "    df_iris.data, columns=[\"sepal length\", \"sepal width\", \"petal length\", \"petal width\"]\n",
    ")\n",
    "print(df.head())\n",
    "\n",
    "y = df_iris.target\n",
    "X = df"
   ]
  },
  {
   "cell_type": "code",
   "execution_count": null,
   "id": "ce4fab2d",
   "metadata": {},
   "outputs": [],
   "source": [
    "# Decision Trees - Classifier on Iris Data\n",
    "# train test split - then we fit on x train - predict on x test and compare y test to y predict\n",
    "X_train, X_test, y_train, y_test = train_test_split(X, y, random_state=1, test_size=0.2)\n",
    "clf = tree.DecisionTreeClassifier(random_state=1)\n",
    "clf = clf.fit(X_train, y_train)\n",
    "pred = clf.predict(X_test)\n",
    "# sum((y_test-pred) == 0) / len(pred)\n",
    "# Model Accuracy, how often is the classifier correct?\n",
    "print(\"Accuracy:\", metrics.accuracy_score(y_test, pred))"
   ]
  },
  {
   "cell_type": "code",
   "execution_count": null,
   "id": "e7e6f60b",
   "metadata": {},
   "outputs": [],
   "source": [
    "# Extra\n",
    "# #### Zoo data ####\n",
    "\n",
    "# tree.plot_tree(clf)\n",
    "\n",
    "# #load data\n",
    "# df_zoo = pd.read_csv('/work/zoo.csv')\n",
    "\n",
    "# # define X and y\n",
    "# y = df_zoo.class_type\n",
    "# X = df_zoo.drop(['class_type','animal_name'], axis=1)\n",
    "\n",
    "# # train test split\n",
    "# X_train, X_test, y_train, y_test = train_test_split(X, y, random_state=1, test_size=0.2)\n",
    "\n",
    "# # Decision Tree Classifier\n",
    "# clf = tree.DecisionTreeClassifier(random_state=1)\n",
    "\n",
    "# # fiti model\n",
    "# clf = clf.fit(X_train, y_train)\n",
    "\n",
    "# # predictions\n",
    "# pred = clf.predict(X_test)\n",
    "\n",
    "# # Model Accuracy, how often is the classifier correct?\n",
    "# print(\"Accuracy:\",metrics.accuracy_score(y_test, pred))\n"
   ]
  }
 ],
 "metadata": {
  "kernelspec": {
   "display_name": "Python 3",
   "language": "python",
   "name": "python3"
  },
  "language_info": {
   "codemirror_mode": {
    "name": "ipython",
    "version": 3
   },
   "file_extension": ".py",
   "mimetype": "text/x-python",
   "name": "python",
   "nbconvert_exporter": "python",
   "pygments_lexer": "ipython3",
   "version": "3.8.8"
  }
 },
 "nbformat": 4,
 "nbformat_minor": 5
}
