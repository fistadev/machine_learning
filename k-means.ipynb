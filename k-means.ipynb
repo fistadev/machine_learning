{
 "cells": [
  {
   "cell_type": "markdown",
   "id": "4f0c33d6",
   "metadata": {},
   "source": [
    "## K-Means\n",
    "\n",
    "* import packages\n",
    "* load data\n",
    "* create pandas dataframe\n",
    "* Create the class and target columns\n",
    "* clean data\n",
    "* merge\n",
    "* plot\n",
    "* start k-means\n",
    "* model\n",
    "* fit\n",
    "* predict\n",
    "* plot (points)\n",
    "* new labels\n",
    "* predict new labels\n",
    "* plot new labels (new_points)\n",
    "* plot all together"
   ]
  },
  {
   "cell_type": "code",
   "execution_count": 2,
   "id": "76bfc4e6",
   "metadata": {},
   "outputs": [],
   "source": [
    "import pandas as pd\n",
    "import numpy as np\n",
    "\n",
    "from sklearn.datasets import load_iris\n",
    "from sklearn.model_selection import train_test_split\n",
    "from scipy.cluster.hierarchy import linkage, dendrogram\n",
    "\n",
    "import matplotlib.pyplot as plt"
   ]
  },
  {
   "cell_type": "code",
   "execution_count": 3,
   "id": "26d7e6ed",
   "metadata": {},
   "outputs": [],
   "source": [
    "# load data\n",
    "iris_data = load_iris()"
   ]
  },
  {
   "cell_type": "code",
   "execution_count": 4,
   "id": "16d15840",
   "metadata": {},
   "outputs": [
    {
     "data": {
      "text/html": [
       "<div>\n",
       "<style scoped>\n",
       "    .dataframe tbody tr th:only-of-type {\n",
       "        vertical-align: middle;\n",
       "    }\n",
       "\n",
       "    .dataframe tbody tr th {\n",
       "        vertical-align: top;\n",
       "    }\n",
       "\n",
       "    .dataframe thead th {\n",
       "        text-align: right;\n",
       "    }\n",
       "</style>\n",
       "<table border=\"1\" class=\"dataframe\">\n",
       "  <thead>\n",
       "    <tr style=\"text-align: right;\">\n",
       "      <th></th>\n",
       "      <th>sepal length</th>\n",
       "      <th>sepal width</th>\n",
       "      <th>petal length</th>\n",
       "      <th>petal width</th>\n",
       "      <th>target</th>\n",
       "      <th>class</th>\n",
       "    </tr>\n",
       "  </thead>\n",
       "  <tbody>\n",
       "    <tr>\n",
       "      <th>146</th>\n",
       "      <td>6.3</td>\n",
       "      <td>2.5</td>\n",
       "      <td>5.0</td>\n",
       "      <td>1.9</td>\n",
       "      <td>2</td>\n",
       "      <td>virginica</td>\n",
       "    </tr>\n",
       "    <tr>\n",
       "      <th>30</th>\n",
       "      <td>4.8</td>\n",
       "      <td>3.1</td>\n",
       "      <td>1.6</td>\n",
       "      <td>0.2</td>\n",
       "      <td>0</td>\n",
       "      <td>setosa</td>\n",
       "    </tr>\n",
       "    <tr>\n",
       "      <th>6</th>\n",
       "      <td>4.6</td>\n",
       "      <td>3.4</td>\n",
       "      <td>1.4</td>\n",
       "      <td>0.3</td>\n",
       "      <td>0</td>\n",
       "      <td>setosa</td>\n",
       "    </tr>\n",
       "    <tr>\n",
       "      <th>0</th>\n",
       "      <td>5.1</td>\n",
       "      <td>3.5</td>\n",
       "      <td>1.4</td>\n",
       "      <td>0.2</td>\n",
       "      <td>0</td>\n",
       "      <td>setosa</td>\n",
       "    </tr>\n",
       "    <tr>\n",
       "      <th>113</th>\n",
       "      <td>5.7</td>\n",
       "      <td>2.5</td>\n",
       "      <td>5.0</td>\n",
       "      <td>2.0</td>\n",
       "      <td>2</td>\n",
       "      <td>virginica</td>\n",
       "    </tr>\n",
       "    <tr>\n",
       "      <th>143</th>\n",
       "      <td>6.8</td>\n",
       "      <td>3.2</td>\n",
       "      <td>5.9</td>\n",
       "      <td>2.3</td>\n",
       "      <td>2</td>\n",
       "      <td>virginica</td>\n",
       "    </tr>\n",
       "    <tr>\n",
       "      <th>148</th>\n",
       "      <td>6.2</td>\n",
       "      <td>3.4</td>\n",
       "      <td>5.4</td>\n",
       "      <td>2.3</td>\n",
       "      <td>2</td>\n",
       "      <td>virginica</td>\n",
       "    </tr>\n",
       "    <tr>\n",
       "      <th>23</th>\n",
       "      <td>5.1</td>\n",
       "      <td>3.3</td>\n",
       "      <td>1.7</td>\n",
       "      <td>0.5</td>\n",
       "      <td>0</td>\n",
       "      <td>setosa</td>\n",
       "    </tr>\n",
       "    <tr>\n",
       "      <th>27</th>\n",
       "      <td>5.2</td>\n",
       "      <td>3.5</td>\n",
       "      <td>1.5</td>\n",
       "      <td>0.2</td>\n",
       "      <td>0</td>\n",
       "      <td>setosa</td>\n",
       "    </tr>\n",
       "    <tr>\n",
       "      <th>149</th>\n",
       "      <td>5.9</td>\n",
       "      <td>3.0</td>\n",
       "      <td>5.1</td>\n",
       "      <td>1.8</td>\n",
       "      <td>2</td>\n",
       "      <td>virginica</td>\n",
       "    </tr>\n",
       "  </tbody>\n",
       "</table>\n",
       "</div>"
      ],
      "text/plain": [
       "     sepal length  sepal width  petal length  petal width  target      class\n",
       "146           6.3          2.5           5.0          1.9       2  virginica\n",
       "30            4.8          3.1           1.6          0.2       0     setosa\n",
       "6             4.6          3.4           1.4          0.3       0     setosa\n",
       "0             5.1          3.5           1.4          0.2       0     setosa\n",
       "113           5.7          2.5           5.0          2.0       2  virginica\n",
       "143           6.8          3.2           5.9          2.3       2  virginica\n",
       "148           6.2          3.4           5.4          2.3       2  virginica\n",
       "23            5.1          3.3           1.7          0.5       0     setosa\n",
       "27            5.2          3.5           1.5          0.2       0     setosa\n",
       "149           5.9          3.0           5.1          1.8       2  virginica"
      ]
     },
     "execution_count": 4,
     "metadata": {},
     "output_type": "execute_result"
    }
   ],
   "source": [
    "# Create pd DF the same way you did the first day\n",
    "# Create the class and target columns and remove de cm from the columns names\n",
    "\n",
    "\n",
    "def create_df():\n",
    "    df = pd.DataFrame(iris_data.data, columns=iris_data.feature_names)\n",
    "    df[\"target\"] = iris_data.target\n",
    "    df[\"class\"] = iris_data.target_names[iris_data.target]\n",
    "    df.columns = [col.replace(\"(cm)\", \"\").strip() for col in df.columns]\n",
    "    return df\n",
    "\n",
    "\n",
    "df_iris = create_df()\n",
    "df_iris.sample(n=10)"
   ]
  },
  {
   "cell_type": "code",
   "execution_count": 5,
   "id": "8eaaaf4d",
   "metadata": {},
   "outputs": [
    {
     "name": "stdout",
     "output_type": "stream",
     "text": [
      "(150, 4)\n"
     ]
    }
   ],
   "source": [
    "# From our data we will only get variable columns as np.array\n",
    "x = 0\n",
    "x = df_iris[[\"sepal length\", \"sepal width\", \"petal length\", \"petal width\"]].to_numpy()\n",
    "print(x.shape)\n",
    "\n",
    "# or\n",
    "\n",
    "# x_iloc = df_iris.iloc[:,:4].to_numpy()\n",
    "# print(x_iloc)"
   ]
  },
  {
   "cell_type": "code",
   "execution_count": 6,
   "id": "c67c8436",
   "metadata": {},
   "outputs": [],
   "source": [
    "# merge\n",
    "mergings = 0\n",
    "mergings = linkage(x, \"complete\")"
   ]
  },
  {
   "cell_type": "code",
   "execution_count": 7,
   "id": "c5a72cba",
   "metadata": {},
   "outputs": [
    {
     "data": {
      "image/png": "[encoded data removed]",
      "text/plain": [
       "<Figure size 1800x720 with 1 Axes>"
      ]
     },
     "metadata": {
      "needs_background": "light"
     },
     "output_type": "display_data"
    }
   ],
   "source": [
    "# plot\n",
    "dn = 0\n",
    "fig = plt.figure(figsize=(25, 10))\n",
    "dn = dendrogram(mergings)\n",
    "plt.show()"
   ]
  },
  {
   "cell_type": "code",
   "execution_count": 8,
   "id": "07873631",
   "metadata": {},
   "outputs": [],
   "source": [
    "# KMEANS\n",
    "\n",
    "############\n",
    "\n",
    "from sklearn.cluster import KMeans\n",
    "\n",
    "df = pd.read_csv(\"./data/ch1ex1.csv\")\n",
    "points = df.values\n",
    "\n",
    "new_df = pd.read_csv(\"./data/ch1ex2.csv\")\n",
    "new_points = new_df.values"
   ]
  },
  {
   "cell_type": "code",
   "execution_count": 9,
   "id": "94e8ebdc",
   "metadata": {},
   "outputs": [],
   "source": [
    "# model = 0\n",
    "model = KMeans(n_clusters=3)"
   ]
  },
  {
   "cell_type": "code",
   "execution_count": 11,
   "id": "85723370",
   "metadata": {},
   "outputs": [
    {
     "data": {
      "text/plain": [
       "KMeans(n_clusters=3)"
      ]
     },
     "execution_count": 11,
     "metadata": {},
     "output_type": "execute_result"
    }
   ],
   "source": [
    "model.fit(points)"
   ]
  },
  {
   "cell_type": "code",
   "execution_count": 12,
   "id": "bc43c21b",
   "metadata": {},
   "outputs": [
    {
     "data": {
      "text/plain": [
       "(300,)"
      ]
     },
     "execution_count": 12,
     "metadata": {},
     "output_type": "execute_result"
    }
   ],
   "source": [
    "labels = model.predict(points)\n",
    "labels.shape"
   ]
  },
  {
   "cell_type": "code",
   "execution_count": 13,
   "id": "ef66adc3",
   "metadata": {},
   "outputs": [
    {
     "name": "stdout",
     "output_type": "stream",
     "text": [
      "(94, 2)\n",
      "(95, 2)\n",
      "(111, 2)\n"
     ]
    }
   ],
   "source": [
    "# Make a function that returns 3 numpy arrays each one with the points associated for each class\n",
    "# If the label is 0 they go into data_0\n",
    "# If the label is 1 they go into data_1\n",
    "# If the label is 2 they go into data_2\n",
    "\n",
    "\n",
    "def separate_labels(labels, points):\n",
    "    data_0 = []\n",
    "    data_1 = []\n",
    "    data_2 = []\n",
    "    for i in range(labels.shape[0]):\n",
    "        if labels[i] == 0:\n",
    "            data_0.append(points[i])\n",
    "        elif labels[i] == 1:\n",
    "            data_1.append(points[i])\n",
    "        else:\n",
    "            data_2.append(points[i])\n",
    "    \n",
    "    return np.array(data_0), np.array(data_1), np.array(data_2)\n",
    "\n",
    "\n",
    "data_0, data_1, data_2 = separate_labels(labels, points)\n",
    "\n",
    "print(data_0.shape)\n",
    "print(data_1.shape)\n",
    "print(data_2.shape)"
   ]
  },
  {
   "cell_type": "code",
   "execution_count": 14,
   "id": "b9ce5416",
   "metadata": {},
   "outputs": [
    {
     "data": {
      "text/plain": [
       "Text(0.5, 1.0, 'K-MEANS')"
      ]
     },
     "execution_count": 14,
     "metadata": {},
     "output_type": "execute_result"
    },
    {
     "data": {
      "image/png": "[encoded data removed]",
      "text/plain": [
       "<Figure size 432x288 with 1 Axes>"
      ]
     },
     "metadata": {
      "needs_background": "light"
     },
     "output_type": "display_data"
    }
   ],
   "source": [
    "# plotting the data\n",
    "plt.scatter(data_0[:, 0], data_0[:, 1], c=\"steelblue\")\n",
    "plt.scatter(data_1[:, 0], data_1[:, 1], c=\"orange\")\n",
    "plt.scatter(data_2[:, 0], data_2[:, 1], c=\"firebrick\")\n",
    "plt.title(\"K-MEANS\")"
   ]
  },
  {
   "cell_type": "code",
   "execution_count": 15,
   "id": "bc8c5e54",
   "metadata": {},
   "outputs": [
    {
     "data": {
      "text/plain": [
       "array([0, 0, 1, 1, 2, 2, 0, 2, 2, 1, 2, 2, 1, 2, 0, 0, 2, 0, 0, 2, 0, 0,\n",
       "       1, 0, 1, 2, 1, 0, 0, 0, 1, 2, 2, 1, 1, 0, 1, 1, 1, 1, 0, 2, 1, 2,\n",
       "       1, 1, 2, 0, 1, 1, 0, 0, 2, 0, 2, 0, 1, 0, 1, 1, 1, 2, 2, 2, 1, 1,\n",
       "       2, 1, 2, 1, 0, 0, 0, 2, 1, 2, 2, 2, 0, 2, 0, 2, 0, 2, 0, 1, 0, 2,\n",
       "       1, 2, 0, 0, 1, 1, 0, 0, 0, 1, 2, 1], dtype=int32)"
      ]
     },
     "execution_count": 15,
     "metadata": {},
     "output_type": "execute_result"
    }
   ],
   "source": [
    "new_labels = model.predict(new_points)\n",
    "new_labels\n"
   ]
  },
  {
   "cell_type": "code",
   "execution_count": 16,
   "id": "9ccdeb82",
   "metadata": {},
   "outputs": [
    {
     "name": "stdout",
     "output_type": "stream",
     "text": [
      "(94, 2)\n",
      "(95, 2)\n",
      "(111, 2)\n"
     ]
    }
   ],
   "source": [
    "# using enumerate\n",
    "\n",
    "\n",
    "def separate_labels(labels, points):\n",
    "    data_0 = []\n",
    "    data_1 = []\n",
    "    data_2 = []\n",
    "\n",
    "    for index, i in enumerate(labels):\n",
    "        if i == 0:\n",
    "            data_0.append(points[index])\n",
    "        elif i == 1:\n",
    "            data_1.append(points[index])\n",
    "        elif i == 2:\n",
    "            data_2.append(points[index])\n",
    "\n",
    "    return np.array(data_0), np.array(data_1), np.array(data_2)\n",
    "\n",
    "\n",
    "data_0, data_1, data_2 = separate_labels(labels, points)\n",
    "\n",
    "print(data_0.shape)\n",
    "print(data_1.shape)\n",
    "print(data_2.shape)"
   ]
  },
  {
   "cell_type": "code",
   "execution_count": 17,
   "id": "eccbf62e",
   "metadata": {},
   "outputs": [
    {
     "data": {
      "text/plain": [
       "32"
      ]
     },
     "execution_count": 17,
     "metadata": {},
     "output_type": "execute_result"
    }
   ],
   "source": [
    "# separate the data by labels like we did before\n",
    "\n",
    "new_0 = []\n",
    "new_1 = []\n",
    "new_2 = []\n",
    "\n",
    "new_0, new_1, new_2 = separate_labels(new_labels, new_points)\n",
    "abs(new_0.shape[0])\n",
    "abs(new_1.shape[0])\n",
    "abs(new_2.shape[0])\n"
   ]
  },
  {
   "cell_type": "code",
   "execution_count": 18,
   "id": "760bad41",
   "metadata": {},
   "outputs": [
    {
     "data": {
      "text/plain": [
       "Text(0.5, 1.0, 'K-MEANS - new')"
      ]
     },
     "execution_count": 18,
     "metadata": {},
     "output_type": "execute_result"
    },
    {
     "data": {
      "image/png": "[encoded data removed]",
      "text/plain": [
       "<Figure size 432x288 with 1 Axes>"
      ]
     },
     "metadata": {
      "needs_background": "light"
     },
     "output_type": "display_data"
    }
   ],
   "source": [
    "# plot the new labels\n",
    "\n",
    "plt.scatter(new_0[:, 0], new_0[:, 1], c=\"aqua\")\n",
    "plt.scatter(new_1[:, 0], new_1[:, 1], c=\"forestgreen\")\n",
    "plt.scatter(new_2[:, 0], new_2[:, 1], c=\"gold\")\n",
    "plt.title(\"K-MEANS - new\")"
   ]
  },
  {
   "cell_type": "code",
   "execution_count": 19,
   "id": "25543501",
   "metadata": {},
   "outputs": [
    {
     "data": {
      "text/plain": [
       "Text(0.5, 1.0, 'K-MEANS - ALL')"
      ]
     },
     "execution_count": 19,
     "metadata": {},
     "output_type": "execute_result"
    },
    {
     "data": {
      "image/png": "[encoded data removed]",
      "text/plain": [
       "<Figure size 432x288 with 1 Axes>"
      ]
     },
     "metadata": {
      "needs_background": "light"
     },
     "output_type": "display_data"
    }
   ],
   "source": [
    "# plot all the points together\n",
    "\n",
    "plt.scatter(data_0[:, 0], data_0[:, 1], c=\"steelblue\")\n",
    "plt.scatter(data_1[:, 0], data_1[:, 1], c=\"orange\")\n",
    "plt.scatter(data_2[:, 0], data_2[:, 1], c=\"firebrick\")\n",
    "\n",
    "plt.scatter(new_0[:, 0], new_0[:, 1], c=\"aqua\")\n",
    "plt.scatter(new_1[:, 0], new_1[:, 1], c=\"forestgreen\")\n",
    "plt.scatter(new_2[:, 0], new_2[:, 1], c=\"gold\")\n",
    "plt.title(\"K-MEANS - ALL\")"
   ]
  },
  {
   "cell_type": "code",
   "execution_count": null,
   "id": "4672f4ba",
   "metadata": {},
   "outputs": [],
   "source": []
  }
 ],
 "metadata": {
  "kernelspec": {
   "display_name": "Python 3",
   "language": "python",
   "name": "python3"
  },
  "language_info": {
   "codemirror_mode": {
    "name": "ipython",
    "version": 3
   },
   "file_extension": ".py",
   "mimetype": "text/x-python",
   "name": "python",
   "nbconvert_exporter": "python",
   "pygments_lexer": "ipython3",
   "version": "3.8.8"
  }
 },
 "nbformat": 4,
 "nbformat_minor": 5
}
