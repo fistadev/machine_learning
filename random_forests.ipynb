{
 "cells": [
  {
   "cell_type": "markdown",
   "id": "e6379462",
   "metadata": {},
   "source": [
    "## Random Forests\n",
    "\n",
    "Random Forests conbine versatility and power into a single machine-learning approach.\n",
    "\n",
    "Random Forest is a model made up of many decision trees.\n",
    "\n",
    "**Random Forests** are the result of **combining multiple trees** that are **not correlated** with each other.\n",
    "\n",
    "##### from sklearn.ensemble import RandomForestClassifier\n",
    "\n",
    "\n",
    "* load data\n",
    "* create pandas dataframe\n",
    "* train test split\n",
    "* RandomForestClassifier()\n",
    "* fit\n",
    "* predict\n",
    "* accuracy\n"
   ]
  },
  {
   "cell_type": "code",
   "execution_count": 1,
   "id": "db27446d",
   "metadata": {},
   "outputs": [],
   "source": [
    "import numpy as np\n",
    "import pandas as pd\n",
    "from sklearn.ensemble import RandomForestClassifier\n",
    "from sklearn.datasets import make_classification\n",
    "from sklearn.ensemble import RandomForestRegressor\n",
    "from sklearn.metrics import mean_absolute_error\n",
    "from sklearn.model_selection import train_test_split, cross_validate\n",
    "from sklearn.model_selection import train_test_split\n",
    "from sklearn import tree\n",
    "from sklearn import metrics\n",
    "from sklearn.datasets import load_iris"
   ]
  },
  {
   "cell_type": "code",
   "execution_count": 2,
   "id": "33a9759f",
   "metadata": {},
   "outputs": [],
   "source": [
    "# load data\n",
    "df_iris = load_iris()\n",
    "# df_iris.keys()"
   ]
  },
  {
   "cell_type": "code",
   "execution_count": 3,
   "id": "fb11c731",
   "metadata": {},
   "outputs": [
    {
     "name": "stdout",
     "output_type": "stream",
     "text": [
      "   sepal length  sepal width  petal length  petal width\n",
      "0           5.1          3.5           1.4          0.2\n",
      "1           4.9          3.0           1.4          0.2\n",
      "2           4.7          3.2           1.3          0.2\n",
      "3           4.6          3.1           1.5          0.2\n",
      "4           5.0          3.6           1.4          0.2\n"
     ]
    }
   ],
   "source": [
    "# create dataframe\n",
    "df = pd.DataFrame(\n",
    "    df_iris.data, columns=[\"sepal length\", \"sepal width\", \"petal length\", \"petal width\"]\n",
    ")\n",
    "print(df.head())\n",
    "\n",
    "y = df_iris.target\n",
    "X = df"
   ]
  },
  {
   "cell_type": "code",
   "execution_count": 4,
   "id": "10ddf6a1",
   "metadata": {},
   "outputs": [
    {
     "name": "stdout",
     "output_type": "stream",
     "text": [
      "0.9666666666666667\n"
     ]
    }
   ],
   "source": [
    "# Random Forest - Classifier on Iris Data\n",
    "# train test split - then we fit on x train - predict on x test and compare y test to y predict\n",
    "X_train, X_test, y_train, y_test = train_test_split(X, y, random_state=1, test_size=0.2)\n",
    "clf_r = RandomForestClassifier(n_estimators=100)\n",
    "clf_r = clf_r.fit(X_train, y_train)\n",
    "pred_r = clf_r.predict(X_test)\n",
    "acc = sum((y_test - pred_r) == 0) / len(pred_r)\n",
    "print(acc)"
   ]
  },
  {
   "cell_type": "code",
   "execution_count": null,
   "id": "92b021ff",
   "metadata": {},
   "outputs": [],
   "source": []
  }
 ],
 "metadata": {
  "kernelspec": {
   "display_name": "Python 3",
   "language": "python",
   "name": "python3"
  },
  "language_info": {
   "codemirror_mode": {
    "name": "ipython",
    "version": 3
   },
   "file_extension": ".py",
   "mimetype": "text/x-python",
   "name": "python",
   "nbconvert_exporter": "python",
   "pygments_lexer": "ipython3",
   "version": "3.8.8"
  }
 },
 "nbformat": 4,
 "nbformat_minor": 5
}
