{
 "cells": [
  {
   "cell_type": "markdown",
   "source": [
    "## KNN\n",
    "\n",
    "The k-nearest neighbors algorithm (knn) is a non-parametric method used for classification and regression. The KNN algorithm treats the features as coordinates in a multidimensional feature space. \n",
    "\n",
    "#### Advantages of KNN\n",
    "  * Intuitive and simple\n",
    "  * Has no assumptions\n",
    "  * no training step\n",
    "  * variety of distance criteria to be choose from\n",
    "  * constantly evolves\n",
    "  * \"easy\" to implement for multi-class problem\n",
    "\n",
    "\n",
    "#### Disadvantages of KNN\n",
    "  * slow algorithm\n",
    "  * curse of dimensionality\n",
    "  * optimal number of neighbors\n",
    "  * outlier sensitivity\n",
    "  * imbalanced data causes problems\n",
    "  * missing value treatment\n",
    "  \n",
    "KNN \n",
    "\n",
    "* import libraries\n",
    "* make the dataset\n",
    "* plot the dataset\n",
    "* implement square diff\n",
    "* implement root sum squares\n",
    "* euclidean_distances\n",
    "* evaluate\n",
    "* Create the KNN prediction function\n",
    "* fit\n",
    "* model\n",
    "* train test split\n",
    "* predict"
   ],
   "metadata": {}
  },
  {
   "cell_type": "code",
   "execution_count": 1,
   "source": [
    "#import libraries\n",
    "import numpy as np\n",
    "from collections import Counter\n",
    "import matplotlib.pyplot as plt\n",
    "from sklearn.datasets import make_blobs\n",
    "from sklearn.model_selection import train_test_split"
   ],
   "outputs": [],
   "metadata": {}
  },
  {
   "cell_type": "code",
   "execution_count": 2,
   "source": [
    "# make the dataset with make_blobs use random state 0 use 300 samples\n",
    "# And plot it\n",
    "X,Y = make_blobs(n_samples=10000,centers=6,cluster_std=0.5,random_state=42)\n",
    "plt.scatter(X[:,0], X[:,1], c= Y)\n",
    "plt.title('Plotting a Sample set')\n",
    "X[0], X[1]"
   ],
   "outputs": [
    {
     "output_type": "execute_result",
     "data": {
      "text/plain": [
       "(array([-9.04696044,  7.28181755]), array([-7.97367732,  6.57798295]))"
      ]
     },
     "metadata": {},
     "execution_count": 2
    },
    {
     "output_type": "display_data",
     "data": {
      "image/png": "[encoded data removed]",
      "text/plain": [
       "<Figure size 432x288 with 1 Axes>"
      ]
     },
     "metadata": {
      "needs_background": "light"
     }
    }
   ],
   "metadata": {}
  },
  {
   "cell_type": "markdown",
   "source": [
    "### Create the helper functions"
   ],
   "metadata": {}
  },
  {
   "cell_type": "code",
   "execution_count": 3,
   "source": [
    "# implement square diff\n",
    "\n",
    "def square_diff(v1, v2):\n",
    "    arr= np.array([(v1[0]-v2[0])**2, (v1[1]-v2[1])**2])\n",
    "    return abs(arr)"
   ],
   "outputs": [],
   "metadata": {}
  },
  {
   "cell_type": "code",
   "execution_count": 4,
   "source": [
    "# implement root sum squares\n",
    "\n",
    "def root_sum_squared(v1):\n",
    "    \n",
    "    sq= np.sqrt(v1[0]+v1[1])\n",
    "    return sq\n",
    "root_sum_squared(square_diff(X[0],X[1]))"
   ],
   "outputs": [
    {
     "output_type": "execute_result",
     "data": {
      "text/plain": [
       "1.283479560698705"
      ]
     },
     "metadata": {},
     "execution_count": 4
    }
   ],
   "metadata": {}
  },
  {
   "cell_type": "markdown",
   "source": [
    "### creating KNN function"
   ],
   "metadata": {}
  },
  {
   "cell_type": "code",
   "execution_count": 5,
   "source": [
    "def euclidean_distances(v1,v2):\n",
    "    dist = np.linalg.norm(v1 - v2)\n",
    "    return dist"
   ],
   "outputs": [],
   "metadata": {}
  },
  {
   "cell_type": "code",
   "execution_count": 6,
   "source": [
    "#implement the evaluate function RETURN THE A VALUE BETWEEN 0 AND 1\n",
    "\n",
    "#This cell will be evaluated later on\n",
    "def evaluate(y, y_p):\n",
    "    arr= np.array([y == y_p])\n",
    "    return (np.count_nonzero(arr == True)/len(y))\n",
    "\n",
    "# evaluate(a,b)"
   ],
   "outputs": [],
   "metadata": {}
  },
  {
   "cell_type": "markdown",
   "source": [
    "### Create the KNN prediction function"
   ],
   "metadata": {}
  },
  {
   "cell_type": "code",
   "execution_count": 7,
   "source": [
    "#Implement the KNN function that predicts the class for the test values using the train values\n",
    "\n",
    "#OUTPUT MUST BE A NP ARRAY\n",
    "from sklearn.neighbors import KNeighborsClassifier\n",
    "#from knn_scratch import KNN\n",
    "from sklearn.model_selection import train_test_split\n",
    "\n",
    "\n",
    "def predict(x_test, x_true, y_true, k= 5):\n",
    "    # YOUR CODE HERE\n",
    "    knn = KNeighborsClassifier(n_neighbors= k)\n",
    "    knn.fit(x_true, y_true)\n",
    "    y_pred= knn.predict(x_test)\n",
    "    return y_pred"
   ],
   "outputs": [],
   "metadata": {}
  },
  {
   "cell_type": "code",
   "execution_count": 8,
   "source": [
    "from sklearn.model_selection import train_test_split\n",
    "#tested with random state 0\n",
    "#create the train test split test_size 0.2\n",
    "x_train, x_test, y_train, y_test = train_test_split(X, Y, test_size=0.2, random_state=0)"
   ],
   "outputs": [],
   "metadata": {}
  },
  {
   "cell_type": "code",
   "execution_count": 9,
   "source": [
    "# predictions\n",
    "predictions = predict(x_test,x_train, y_train, k=5)"
   ],
   "outputs": [],
   "metadata": {}
  },
  {
   "cell_type": "code",
   "execution_count": 10,
   "source": [
    "# predictions = predict(x_test,x_train, y_train, k=2)"
   ],
   "outputs": [],
   "metadata": {}
  },
  {
   "cell_type": "code",
   "execution_count": 11,
   "source": [
    "print('Accuracy {:0.2f}%'.format(evaluate(predictions, y_test)*100))"
   ],
   "outputs": [
    {
     "output_type": "stream",
     "name": "stdout",
     "text": [
      "Accuracy 99.50%\n"
     ]
    }
   ],
   "metadata": {}
  },
  {
   "cell_type": "code",
   "execution_count": null,
   "source": [],
   "outputs": [],
   "metadata": {}
  },
  {
   "cell_type": "code",
   "execution_count": null,
   "source": [],
   "outputs": [],
   "metadata": {}
  }
 ],
 "metadata": {
  "kernelspec": {
   "name": "python3",
   "display_name": "Python 3.8.8 64-bit ('machine_learning': conda)"
  },
  "language_info": {
   "codemirror_mode": {
    "name": "ipython",
    "version": 3
   },
   "file_extension": ".py",
   "mimetype": "text/x-python",
   "name": "python",
   "nbconvert_exporter": "python",
   "pygments_lexer": "ipython3",
   "version": "3.8.8"
  },
  "interpreter": {
   "hash": "2d78e359ff02d0c79ca305c8815f63c63e3b9beac7f2ccf04f89f33a94ce9080"
  }
 },
 "nbformat": 4,
 "nbformat_minor": 5
}